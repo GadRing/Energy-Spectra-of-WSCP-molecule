{
 "cells": [
  {
   "cell_type": "code",
   "execution_count": 156,
   "id": "a9ecd4bc",
   "metadata": {},
   "outputs": [],
   "source": [
    "import numpy as np\n",
    "from numpy import linalg as LA\n",
    "import matplotlib.pyplot as plt\n",
    "import sys \n",
    "np.set_printoptions(threshold=sys.maxsize)"
   ]
  },
  {
   "cell_type": "code",
   "execution_count": 157,
   "id": "a0ce1387",
   "metadata": {},
   "outputs": [],
   "source": [
    "#base vectors from which we will make the dipole matrix. Ket vectors. The bra vectors are complex conjugate of ket vectors\n",
    "base_vectors_ket = np.array([[0, 0, 0, 0], [1, 0, 0, 0], [0, 1, 0, 0], [0, 0, 1, 0], [0, 0, 0, 1], [1, 1, 0, 0], [1, 0, 1, 0],\n",
    "                        [1, 0, 0, 1], [0, 1, 0, 1], [0, 1, 1, 0], [0, 0, 1, 1], [1, 1, 1, 0], [0, 1, 1, 1], [1, 1, 0, 1], \n",
    "                        [1, 0, 1, 1], [1, 1, 1, 1]])"
   ]
  },
  {
   "cell_type": "code",
   "execution_count": 158,
   "id": "2c38ba88",
   "metadata": {},
   "outputs": [],
   "source": [
    "#we make matrix of zero elements 16*16\n",
    "dipole_matrix = np.zeros((16,16))"
   ]
  },
  {
   "cell_type": "code",
   "execution_count": 159,
   "id": "6e36e0fe",
   "metadata": {},
   "outputs": [],
   "source": [
    "#code to fill dipole matrix from dipole potental using ladder operators \n",
    "for i in range(16):\n",
    "    for j in range(16):\n",
    "        for m in range(4):\n",
    "            temp_vec = np.array([0, 0, 0, 0])\n",
    "            temp_vec = np.array(base_vectors_ket[j])\n",
    "            \n",
    "            if temp_vec[m] % 2 == 0 :\n",
    "                continue\n",
    "                \n",
    "            if temp_vec[m] % 2 == 1:\n",
    "                temp_vec[m] = 0\n",
    "                if np.array_equal(base_vectors_ket[i], temp_vec):\n",
    "                    dipole_matrix[i][j] = 1\n",
    "                    \n",
    "for i in range(16):\n",
    "    for j in range(16):\n",
    "        for m in range(4):\n",
    "            temp_vec = np.array([0, 0, 0, 0])\n",
    "            temp_vec = np.array(base_vectors_ket[j])\n",
    "            \n",
    "            if temp_vec[m] % 2 == 1 :\n",
    "                continue\n",
    "                \n",
    "            if temp_vec[m] % 2 == 0:\n",
    "                temp_vec[m] = 1\n",
    "                if np.array_equal(base_vectors_ket[i], temp_vec):\n",
    "                    dipole_matrix[i][j] = 1 "
   ]
  },
  {
   "cell_type": "code",
   "execution_count": 160,
   "id": "171c5efa",
   "metadata": {},
   "outputs": [
    {
     "data": {
      "text/plain": [
       "array([[0., 1., 1., 1., 1., 0., 0., 0., 0., 0., 0., 0., 0., 0., 0., 0.],\n",
       "       [1., 0., 0., 0., 0., 1., 1., 1., 0., 0., 0., 0., 0., 0., 0., 0.],\n",
       "       [1., 0., 0., 0., 0., 1., 0., 0., 1., 1., 0., 0., 0., 0., 0., 0.],\n",
       "       [1., 0., 0., 0., 0., 0., 1., 0., 0., 1., 1., 0., 0., 0., 0., 0.],\n",
       "       [1., 0., 0., 0., 0., 0., 0., 1., 1., 0., 1., 0., 0., 0., 0., 0.],\n",
       "       [0., 1., 1., 0., 0., 0., 0., 0., 0., 0., 0., 1., 0., 1., 0., 0.],\n",
       "       [0., 1., 0., 1., 0., 0., 0., 0., 0., 0., 0., 1., 0., 0., 1., 0.],\n",
       "       [0., 1., 0., 0., 1., 0., 0., 0., 0., 0., 0., 0., 0., 1., 1., 0.],\n",
       "       [0., 0., 1., 0., 1., 0., 0., 0., 0., 0., 0., 0., 1., 1., 0., 0.],\n",
       "       [0., 0., 1., 1., 0., 0., 0., 0., 0., 0., 0., 1., 1., 0., 0., 0.],\n",
       "       [0., 0., 0., 1., 1., 0., 0., 0., 0., 0., 0., 0., 1., 0., 1., 0.],\n",
       "       [0., 0., 0., 0., 0., 1., 1., 0., 0., 1., 0., 0., 0., 0., 0., 1.],\n",
       "       [0., 0., 0., 0., 0., 0., 0., 0., 1., 1., 1., 0., 0., 0., 0., 1.],\n",
       "       [0., 0., 0., 0., 0., 1., 0., 1., 1., 0., 0., 0., 0., 0., 0., 1.],\n",
       "       [0., 0., 0., 0., 0., 0., 1., 1., 0., 0., 1., 0., 0., 0., 0., 1.],\n",
       "       [0., 0., 0., 0., 0., 0., 0., 0., 0., 0., 0., 1., 1., 1., 1., 0.]])"
      ]
     },
     "execution_count": 160,
     "metadata": {},
     "output_type": "execute_result"
    }
   ],
   "source": [
    "# now we take enrgy equal to one. Later we change it by energy of electrical field\n",
    "dipole_matrix"
   ]
  },
  {
   "cell_type": "code",
   "execution_count": 161,
   "id": "522b36e8",
   "metadata": {},
   "outputs": [
    {
     "data": {
      "text/plain": [
       "array([[ 0, 70,  6, 13],\n",
       "       [70,  0, 13,  6],\n",
       "       [ 6, 13,  0, 70],\n",
       "       [13,  6, 70,  0]])"
      ]
     },
     "execution_count": 161,
     "metadata": {},
     "output_type": "execute_result"
    }
   ],
   "source": [
    "#Water soluable Chlorophyll Protein have four molecules. In this matrix we \n",
    "#have couplings(strengths) between molecules\n",
    "Coupling_matrix = np.array([[0, 70, 6, 13],\n",
    "                           [70, 0, 13, 6],\n",
    "                           [6, 13, 0, 70],\n",
    "                           [13, 6, 70, 0]])\n",
    "Coupling_matrix"
   ]
  },
  {
   "cell_type": "code",
   "execution_count": 162,
   "id": "e245acf3",
   "metadata": {},
   "outputs": [],
   "source": [
    "#We create matrix of zero elements for hamiltonian(energy of the system)\n",
    "Hamiltonian = np.zeros((16, 16))"
   ]
  },
  {
   "cell_type": "code",
   "execution_count": 163,
   "id": "77a31d91",
   "metadata": {},
   "outputs": [],
   "source": [
    "#Using Frenkel Exciton hamiltonian we will the matrix using coupling matrix and base site energy 14000 cm^(-1)\n",
    "for i in range(16):\n",
    "    for j in range(16):\n",
    "        for n in range(4):\n",
    "            for m in range(4):\n",
    "                temp_vec = np.array([0, 0, 0, 0])\n",
    "                temp_vec = np.array(base_vectors_ket[j])\n",
    "            \n",
    "                if temp_vec[m] % 2 == 0:\n",
    "                    continue\n",
    "                \n",
    "                elif temp_vec[m] % 2 ==1:\n",
    "                    temp_vec[m] = 0\n",
    "                \n",
    "                    temp_vec_2 = np.array(temp_vec)\n",
    "                \n",
    "                \n",
    "                    if temp_vec_2[n] % 2 == 1:\n",
    "                        continue\n",
    "                        \n",
    "                    elif temp_vec_2[n] % 2 == 0 :\n",
    "                        temp_vec_2[n] = 1\n",
    "                        \n",
    "                        if np.array_equal(base_vectors_ket[i], temp_vec_2):\n",
    "                            Hamiltonian[i][j] = Coupling_matrix[n][m]\n",
    "                            \n",
    "for i in range(16):\n",
    "    for j in range(16):\n",
    "        for m in range(4):\n",
    "            temp_vec = np.array([0, 0, 0, 0])\n",
    "            temp_vec = np.array(base_vectors_ket[j])\n",
    "            \n",
    "            if temp_vec[m] % 2 == 0 :\n",
    "                continue\n",
    "                \n",
    "            if temp_vec[m] % 2 == 1:\n",
    "                temp_vec[m] = 1\n",
    "                \n",
    "                if np.array_equal(base_vectors_ket[i], temp_vec) and j < 5:\n",
    "                    Hamiltonian[i][j] = 14000\n",
    "                    \n",
    "                elif np.array_equal(base_vectors_ket[i], temp_vec) and ( 5 <= j and j < 11 ):\n",
    "                    Hamiltonian[i][j] = 14000 * 2 \n",
    "                    \n",
    "                elif np.array_equal(base_vectors_ket[i], temp_vec) and ( 11 <= j and j < 15 ):\n",
    "                    Hamiltonian[i][j] = 14000*3\n",
    "                    \n",
    "                elif np.array_equal(base_vectors_ket[i], temp_vec) and j == 15:\n",
    "                    Hamiltonian[i][j] = 14000*4"
   ]
  },
  {
   "cell_type": "code",
   "execution_count": 111,
   "id": "9e63c73d",
   "metadata": {},
   "outputs": [
    {
     "data": {
      "text/plain": [
       "array([[0.0e+00, 0.0e+00, 0.0e+00, 0.0e+00, 0.0e+00, 0.0e+00, 0.0e+00,\n",
       "        0.0e+00, 0.0e+00, 0.0e+00, 0.0e+00, 0.0e+00, 0.0e+00, 0.0e+00,\n",
       "        0.0e+00, 0.0e+00],\n",
       "       [0.0e+00, 1.4e+04, 7.0e+01, 6.0e+00, 1.3e+01, 0.0e+00, 0.0e+00,\n",
       "        0.0e+00, 0.0e+00, 0.0e+00, 0.0e+00, 0.0e+00, 0.0e+00, 0.0e+00,\n",
       "        0.0e+00, 0.0e+00],\n",
       "       [0.0e+00, 7.0e+01, 1.4e+04, 1.3e+01, 6.0e+00, 0.0e+00, 0.0e+00,\n",
       "        0.0e+00, 0.0e+00, 0.0e+00, 0.0e+00, 0.0e+00, 0.0e+00, 0.0e+00,\n",
       "        0.0e+00, 0.0e+00],\n",
       "       [0.0e+00, 6.0e+00, 1.3e+01, 1.4e+04, 7.0e+01, 0.0e+00, 0.0e+00,\n",
       "        0.0e+00, 0.0e+00, 0.0e+00, 0.0e+00, 0.0e+00, 0.0e+00, 0.0e+00,\n",
       "        0.0e+00, 0.0e+00],\n",
       "       [0.0e+00, 1.3e+01, 6.0e+00, 7.0e+01, 1.4e+04, 0.0e+00, 0.0e+00,\n",
       "        0.0e+00, 0.0e+00, 0.0e+00, 0.0e+00, 0.0e+00, 0.0e+00, 0.0e+00,\n",
       "        0.0e+00, 0.0e+00],\n",
       "       [0.0e+00, 0.0e+00, 0.0e+00, 0.0e+00, 0.0e+00, 2.8e+04, 1.3e+01,\n",
       "        6.0e+00, 1.3e+01, 6.0e+00, 0.0e+00, 0.0e+00, 0.0e+00, 0.0e+00,\n",
       "        0.0e+00, 0.0e+00],\n",
       "       [0.0e+00, 0.0e+00, 0.0e+00, 0.0e+00, 0.0e+00, 1.3e+01, 2.8e+04,\n",
       "        7.0e+01, 0.0e+00, 7.0e+01, 1.3e+01, 0.0e+00, 0.0e+00, 0.0e+00,\n",
       "        0.0e+00, 0.0e+00],\n",
       "       [0.0e+00, 0.0e+00, 0.0e+00, 0.0e+00, 0.0e+00, 6.0e+00, 7.0e+01,\n",
       "        2.8e+04, 7.0e+01, 0.0e+00, 6.0e+00, 0.0e+00, 0.0e+00, 0.0e+00,\n",
       "        0.0e+00, 0.0e+00],\n",
       "       [0.0e+00, 0.0e+00, 0.0e+00, 0.0e+00, 0.0e+00, 1.3e+01, 0.0e+00,\n",
       "        7.0e+01, 2.8e+04, 7.0e+01, 1.3e+01, 0.0e+00, 0.0e+00, 0.0e+00,\n",
       "        0.0e+00, 0.0e+00],\n",
       "       [0.0e+00, 0.0e+00, 0.0e+00, 0.0e+00, 0.0e+00, 6.0e+00, 7.0e+01,\n",
       "        0.0e+00, 7.0e+01, 2.8e+04, 6.0e+00, 0.0e+00, 0.0e+00, 0.0e+00,\n",
       "        0.0e+00, 0.0e+00],\n",
       "       [0.0e+00, 0.0e+00, 0.0e+00, 0.0e+00, 0.0e+00, 0.0e+00, 1.3e+01,\n",
       "        6.0e+00, 1.3e+01, 6.0e+00, 2.8e+04, 0.0e+00, 0.0e+00, 0.0e+00,\n",
       "        0.0e+00, 0.0e+00],\n",
       "       [0.0e+00, 0.0e+00, 0.0e+00, 0.0e+00, 0.0e+00, 0.0e+00, 0.0e+00,\n",
       "        0.0e+00, 0.0e+00, 0.0e+00, 0.0e+00, 4.2e+04, 1.3e+01, 7.0e+01,\n",
       "        6.0e+00, 0.0e+00],\n",
       "       [0.0e+00, 0.0e+00, 0.0e+00, 0.0e+00, 0.0e+00, 0.0e+00, 0.0e+00,\n",
       "        0.0e+00, 0.0e+00, 0.0e+00, 0.0e+00, 1.3e+01, 4.2e+04, 6.0e+00,\n",
       "        7.0e+01, 0.0e+00],\n",
       "       [0.0e+00, 0.0e+00, 0.0e+00, 0.0e+00, 0.0e+00, 0.0e+00, 0.0e+00,\n",
       "        0.0e+00, 0.0e+00, 0.0e+00, 0.0e+00, 7.0e+01, 6.0e+00, 4.2e+04,\n",
       "        1.3e+01, 0.0e+00],\n",
       "       [0.0e+00, 0.0e+00, 0.0e+00, 0.0e+00, 0.0e+00, 0.0e+00, 0.0e+00,\n",
       "        0.0e+00, 0.0e+00, 0.0e+00, 0.0e+00, 6.0e+00, 7.0e+01, 1.3e+01,\n",
       "        4.2e+04, 0.0e+00],\n",
       "       [0.0e+00, 0.0e+00, 0.0e+00, 0.0e+00, 0.0e+00, 0.0e+00, 0.0e+00,\n",
       "        0.0e+00, 0.0e+00, 0.0e+00, 0.0e+00, 0.0e+00, 0.0e+00, 0.0e+00,\n",
       "        0.0e+00, 5.6e+04]])"
      ]
     },
     "execution_count": 111,
     "metadata": {},
     "output_type": "execute_result"
    }
   ],
   "source": [
    "Hamiltonian"
   ]
  },
  {
   "cell_type": "code",
   "execution_count": 112,
   "id": "107d9db4",
   "metadata": {},
   "outputs": [],
   "source": [
    "# we find the eigenvalues(energy) and eigenvectors(wave functions) of hamiltonian\n",
    "w, v = LA.eigh(Hamiltonian)"
   ]
  },
  {
   "cell_type": "code",
   "execution_count": 113,
   "id": "d9896b3a",
   "metadata": {},
   "outputs": [
    {
     "data": {
      "text/plain": [
       "array([    0.        , 13923.        , 13937.        , 14051.        ,\n",
       "       14089.        , 27859.29056134, 27995.71799643, 28000.        ,\n",
       "       28000.        , 28000.        , 28144.99144223, 41923.        ,\n",
       "       41937.        , 42051.        , 42089.        , 56000.        ])"
      ]
     },
     "execution_count": 113,
     "metadata": {},
     "output_type": "execute_result"
    }
   ],
   "source": [
    "#eigenvalues\n",
    "w"
   ]
  },
  {
   "cell_type": "code",
   "execution_count": 114,
   "id": "d036f9a1",
   "metadata": {},
   "outputs": [
    {
     "data": {
      "text/plain": [
       "array([[ 1.        ,  0.        ,  0.        ,  0.        , -0.        ,\n",
       "        -0.        ,  0.        ,  0.        ,  0.        ,  0.        ,\n",
       "         0.        ,  0.        ,  0.        ,  0.        , -0.        ,\n",
       "         0.        ],\n",
       "       [ 0.        ,  0.5       ,  0.5       ,  0.5       , -0.5       ,\n",
       "        -0.        ,  0.        ,  0.        ,  0.        ,  0.        ,\n",
       "         0.        ,  0.        ,  0.        ,  0.        , -0.        ,\n",
       "         0.        ],\n",
       "       [ 0.        , -0.5       , -0.5       ,  0.5       , -0.5       ,\n",
       "        -0.        ,  0.        ,  0.        ,  0.        ,  0.        ,\n",
       "         0.        ,  0.        ,  0.        ,  0.        , -0.        ,\n",
       "         0.        ],\n",
       "       [ 0.        ,  0.5       , -0.5       , -0.5       , -0.5       ,\n",
       "        -0.        ,  0.        ,  0.        ,  0.        ,  0.        ,\n",
       "         0.        ,  0.        ,  0.        ,  0.        , -0.        ,\n",
       "         0.        ],\n",
       "       [ 0.        , -0.5       ,  0.5       , -0.5       , -0.5       ,\n",
       "        -0.        ,  0.        ,  0.        ,  0.        ,  0.        ,\n",
       "         0.        ,  0.        ,  0.        ,  0.        , -0.        ,\n",
       "         0.        ],\n",
       "       [ 0.        ,  0.        ,  0.        ,  0.        ,  0.        ,\n",
       "        -0.05054338,  0.69337418,  0.16209367, -0.52079482,  0.44999823,\n",
       "        -0.12914181,  0.        ,  0.        ,  0.        , -0.        ,\n",
       "         0.        ],\n",
       "       [ 0.        ,  0.        ,  0.        ,  0.        ,  0.        ,\n",
       "         0.50213038, -0.05554552, -0.41248196,  0.29658705,  0.49182797,\n",
       "        -0.49475224,  0.        ,  0.        ,  0.        , -0.        ,\n",
       "         0.        ],\n",
       "       [ 0.        ,  0.        ,  0.        ,  0.        ,  0.        ,\n",
       "        -0.49528825, -0.12707059, -0.55098482, -0.37524509, -0.23581104,\n",
       "        -0.48840824,  0.        ,  0.        ,  0.        , -0.        ,\n",
       "         0.        ],\n",
       "       [ 0.        ,  0.        ,  0.        ,  0.        ,  0.        ,\n",
       "         0.50213038, -0.05554552,  0.41248196, -0.29658705, -0.49182797,\n",
       "        -0.49475224,  0.        ,  0.        ,  0.        , -0.        ,\n",
       "         0.        ],\n",
       "       [ 0.        ,  0.        ,  0.        ,  0.        ,  0.        ,\n",
       "        -0.49528825, -0.12707059,  0.55098482,  0.37524509,  0.23581104,\n",
       "        -0.48840824,  0.        ,  0.        ,  0.        , -0.        ,\n",
       "         0.        ],\n",
       "       [ 0.        ,  0.        ,  0.        ,  0.        ,  0.        ,\n",
       "        -0.05054338,  0.69337418, -0.16209367,  0.52079482, -0.44999823,\n",
       "        -0.12914181,  0.        ,  0.        ,  0.        , -0.        ,\n",
       "         0.        ],\n",
       "       [ 0.        ,  0.        ,  0.        ,  0.        ,  0.        ,\n",
       "         0.        ,  0.        ,  0.        ,  0.        ,  0.        ,\n",
       "         0.        ,  0.5       ,  0.5       ,  0.5       , -0.5       ,\n",
       "         0.        ],\n",
       "       [ 0.        ,  0.        ,  0.        ,  0.        ,  0.        ,\n",
       "         0.        ,  0.        ,  0.        ,  0.        ,  0.        ,\n",
       "         0.        , -0.5       ,  0.5       , -0.5       , -0.5       ,\n",
       "         0.        ],\n",
       "       [ 0.        ,  0.        ,  0.        ,  0.        ,  0.        ,\n",
       "         0.        ,  0.        ,  0.        ,  0.        ,  0.        ,\n",
       "         0.        , -0.5       , -0.5       ,  0.5       , -0.5       ,\n",
       "         0.        ],\n",
       "       [ 0.        ,  0.        ,  0.        ,  0.        ,  0.        ,\n",
       "         0.        ,  0.        ,  0.        ,  0.        ,  0.        ,\n",
       "         0.        ,  0.5       , -0.5       , -0.5       , -0.5       ,\n",
       "         0.        ],\n",
       "       [ 0.        ,  0.        ,  0.        ,  0.        ,  0.        ,\n",
       "         0.        ,  0.        ,  0.        ,  0.        ,  0.        ,\n",
       "         0.        ,  0.        ,  0.        ,  0.        ,  0.        ,\n",
       "         1.        ]])"
      ]
     },
     "execution_count": 114,
     "metadata": {},
     "output_type": "execute_result"
    }
   ],
   "source": [
    "#Eigenvectors\n",
    "v"
   ]
  },
  {
   "cell_type": "code",
   "execution_count": 115,
   "id": "6e8d9e1c",
   "metadata": {},
   "outputs": [],
   "source": [
    "Ham_Eigenvalues = w"
   ]
  },
  {
   "cell_type": "code",
   "execution_count": 116,
   "id": "7b2726ac",
   "metadata": {},
   "outputs": [],
   "source": [
    "Ham_Eigenvectors = v"
   ]
  },
  {
   "cell_type": "code",
   "execution_count": 117,
   "id": "f14acb4c",
   "metadata": {},
   "outputs": [],
   "source": [
    "Ham_Eigenvectors_tr = np.transpose(Ham_Eigenvectors)"
   ]
  },
  {
   "cell_type": "code",
   "execution_count": 164,
   "id": "f7bcccd8",
   "metadata": {},
   "outputs": [],
   "source": [
    "#Using dipole matrix we connect separate blocks of excitations:0, 1, 2, 3, 4\n",
    "Dipole_matrix_in_base_ham = Ham_Eigenvectors_tr@dipole_matrix@Ham_Eigenvectors\n",
    "D_M_H = Dipole_matrix_in_base_ham"
   ]
  },
  {
   "cell_type": "code",
   "execution_count": 165,
   "id": "9cc3a473",
   "metadata": {},
   "outputs": [
    {
     "data": {
      "text/plain": [
       "array([[ 0.00000000e+00,  1.55431223e-14,  3.83582055e-14,\n",
       "        -4.95159469e-14, -2.00000000e+00,  0.00000000e+00,\n",
       "         0.00000000e+00,  0.00000000e+00,  0.00000000e+00,\n",
       "         0.00000000e+00,  0.00000000e+00,  0.00000000e+00,\n",
       "         0.00000000e+00,  0.00000000e+00,  0.00000000e+00,\n",
       "         0.00000000e+00],\n",
       "       [ 1.55431223e-14,  0.00000000e+00,  0.00000000e+00,\n",
       "         0.00000000e+00,  0.00000000e+00, -1.34064588e-14,\n",
       "         2.56032453e-12, -8.24963922e-01,  5.93174104e-01,\n",
       "         9.83655941e-01, -3.16488739e-14,  0.00000000e+00,\n",
       "         0.00000000e+00,  0.00000000e+00,  0.00000000e+00,\n",
       "         0.00000000e+00],\n",
       "       [ 3.83582055e-14,  0.00000000e+00,  0.00000000e+00,\n",
       "         0.00000000e+00,  0.00000000e+00, -3.58067823e-14,\n",
       "        -1.24440259e-13, -1.10196964e+00, -7.50490189e-01,\n",
       "        -4.71622073e-01, -3.08158662e-14,  0.00000000e+00,\n",
       "         0.00000000e+00,  0.00000000e+00,  0.00000000e+00,\n",
       "         0.00000000e+00],\n",
       "       [-4.95159469e-14,  0.00000000e+00,  0.00000000e+00,\n",
       "         0.00000000e+00,  0.00000000e+00,  1.52190435e-14,\n",
       "         1.74591946e-12,  3.24187339e-01, -1.04158963e+00,\n",
       "         8.99996450e-01,  5.86089970e-14,  0.00000000e+00,\n",
       "         0.00000000e+00,  0.00000000e+00,  0.00000000e+00,\n",
       "         0.00000000e+00],\n",
       "       [-2.00000000e+00,  0.00000000e+00,  0.00000000e+00,\n",
       "         0.00000000e+00,  0.00000000e+00,  8.74025157e-02,\n",
       "        -1.02151614e+00, -7.39015222e-13, -7.46357178e-14,\n",
       "         2.12573297e-12,  2.22460459e+00,  0.00000000e+00,\n",
       "         0.00000000e+00,  0.00000000e+00,  0.00000000e+00,\n",
       "         0.00000000e+00],\n",
       "       [ 0.00000000e+00, -1.33352714e-14, -3.57612495e-14,\n",
       "         1.52391934e-14,  8.74025157e-02,  0.00000000e+00,\n",
       "         0.00000000e+00,  0.00000000e+00,  0.00000000e+00,\n",
       "         0.00000000e+00,  0.00000000e+00, -8.08297629e-15,\n",
       "         3.02848024e-14,  1.68233483e-14,  8.74025157e-02,\n",
       "         0.00000000e+00],\n",
       "       [ 0.00000000e+00,  2.56030029e-12, -1.24442425e-13,\n",
       "         1.74604656e-12, -1.02151614e+00,  0.00000000e+00,\n",
       "         0.00000000e+00,  0.00000000e+00,  0.00000000e+00,\n",
       "         0.00000000e+00,  0.00000000e+00,  2.49886762e-12,\n",
       "         1.88238314e-13,  1.72750703e-12, -1.02151614e+00,\n",
       "         0.00000000e+00],\n",
       "       [ 0.00000000e+00, -8.24963922e-01, -1.10196964e+00,\n",
       "         3.24187339e-01, -7.38975373e-13,  0.00000000e+00,\n",
       "         0.00000000e+00,  0.00000000e+00,  0.00000000e+00,\n",
       "         0.00000000e+00,  0.00000000e+00, -8.24963922e-01,\n",
       "         1.10196964e+00,  3.24187339e-01, -6.25499652e-13,\n",
       "         0.00000000e+00],\n",
       "       [ 0.00000000e+00,  5.93174104e-01, -7.50490189e-01,\n",
       "        -1.04158963e+00, -7.46259898e-14,  0.00000000e+00,\n",
       "         0.00000000e+00,  0.00000000e+00,  0.00000000e+00,\n",
       "         0.00000000e+00,  0.00000000e+00,  5.93174104e-01,\n",
       "         7.50490189e-01, -1.04158963e+00, -4.47142323e-14,\n",
       "         0.00000000e+00],\n",
       "       [ 0.00000000e+00,  9.83655941e-01, -4.71622073e-01,\n",
       "         8.99996450e-01,  2.12570959e-12,  0.00000000e+00,\n",
       "         0.00000000e+00,  0.00000000e+00,  0.00000000e+00,\n",
       "         0.00000000e+00,  0.00000000e+00,  9.83655941e-01,\n",
       "         4.71622073e-01,  8.99996450e-01,  2.07930895e-12,\n",
       "         0.00000000e+00],\n",
       "       [ 0.00000000e+00, -3.18654876e-14, -3.08259658e-14,\n",
       "         5.85212215e-14,  2.22460459e+00,  0.00000000e+00,\n",
       "         0.00000000e+00,  0.00000000e+00,  0.00000000e+00,\n",
       "         0.00000000e+00,  0.00000000e+00,  1.02081572e-13,\n",
       "        -1.08801856e-13,  9.89208715e-14,  2.22460459e+00,\n",
       "         0.00000000e+00],\n",
       "       [ 0.00000000e+00,  0.00000000e+00,  0.00000000e+00,\n",
       "         0.00000000e+00,  0.00000000e+00, -8.10259768e-15,\n",
       "         2.49890315e-12, -8.24963922e-01,  5.93174104e-01,\n",
       "         9.83655941e-01,  1.02008595e-13,  0.00000000e+00,\n",
       "         0.00000000e+00,  0.00000000e+00,  0.00000000e+00,\n",
       "        -1.04694031e-13],\n",
       "       [ 0.00000000e+00,  0.00000000e+00,  0.00000000e+00,\n",
       "         0.00000000e+00,  0.00000000e+00,  3.03394530e-14,\n",
       "         1.88451735e-13,  1.10196964e+00,  7.50490189e-01,\n",
       "         4.71622073e-01, -1.08495672e-13,  0.00000000e+00,\n",
       "         0.00000000e+00,  0.00000000e+00,  0.00000000e+00,\n",
       "         8.68749517e-14],\n",
       "       [ 0.00000000e+00,  0.00000000e+00,  0.00000000e+00,\n",
       "         0.00000000e+00,  0.00000000e+00,  1.68044280e-14,\n",
       "         1.72761481e-12,  3.24187339e-01, -1.04158963e+00,\n",
       "         8.99996450e-01,  9.89605089e-14,  0.00000000e+00,\n",
       "         0.00000000e+00,  0.00000000e+00,  0.00000000e+00,\n",
       "        -8.58202398e-14],\n",
       "       [ 0.00000000e+00,  0.00000000e+00,  0.00000000e+00,\n",
       "         0.00000000e+00,  0.00000000e+00,  8.74025157e-02,\n",
       "        -1.02151614e+00, -6.25487700e-13, -4.47343953e-14,\n",
       "         2.07938119e-12,  2.22460459e+00,  0.00000000e+00,\n",
       "         0.00000000e+00,  0.00000000e+00,  0.00000000e+00,\n",
       "        -2.00000000e+00],\n",
       "       [ 0.00000000e+00,  0.00000000e+00,  0.00000000e+00,\n",
       "         0.00000000e+00,  0.00000000e+00,  0.00000000e+00,\n",
       "         0.00000000e+00,  0.00000000e+00,  0.00000000e+00,\n",
       "         0.00000000e+00,  0.00000000e+00, -1.04694031e-13,\n",
       "         8.68749517e-14, -8.58202398e-14, -2.00000000e+00,\n",
       "         0.00000000e+00]])"
      ]
     },
     "execution_count": 165,
     "metadata": {},
     "output_type": "execute_result"
    }
   ],
   "source": [
    "D_M_H"
   ]
  },
  {
   "cell_type": "code",
   "execution_count": 120,
   "id": "5382b879",
   "metadata": {},
   "outputs": [
    {
     "data": {
      "text/plain": [
       "array([[    0.        ,     0.        ,     0.        ,     0.        ,\n",
       "            0.        ,     0.        ,     0.        ,     0.        ,\n",
       "            0.        ,     0.        ,     0.        ,     0.        ,\n",
       "            0.        ,     0.        ,     0.        ,     0.        ],\n",
       "       [    0.        , 13923.        ,     0.        ,     0.        ,\n",
       "            0.        ,     0.        ,     0.        ,     0.        ,\n",
       "            0.        ,     0.        ,     0.        ,     0.        ,\n",
       "            0.        ,     0.        ,     0.        ,     0.        ],\n",
       "       [    0.        ,     0.        , 13937.        ,     0.        ,\n",
       "            0.        ,     0.        ,     0.        ,     0.        ,\n",
       "            0.        ,     0.        ,     0.        ,     0.        ,\n",
       "            0.        ,     0.        ,     0.        ,     0.        ],\n",
       "       [    0.        ,     0.        ,     0.        , 14051.        ,\n",
       "            0.        ,     0.        ,     0.        ,     0.        ,\n",
       "            0.        ,     0.        ,     0.        ,     0.        ,\n",
       "            0.        ,     0.        ,     0.        ,     0.        ],\n",
       "       [    0.        ,     0.        ,     0.        ,     0.        ,\n",
       "        14089.        ,     0.        ,     0.        ,     0.        ,\n",
       "            0.        ,     0.        ,     0.        ,     0.        ,\n",
       "            0.        ,     0.        ,     0.        ,     0.        ],\n",
       "       [    0.        ,     0.        ,     0.        ,     0.        ,\n",
       "            0.        , 27859.29056134,     0.        ,     0.        ,\n",
       "            0.        ,     0.        ,     0.        ,     0.        ,\n",
       "            0.        ,     0.        ,     0.        ,     0.        ],\n",
       "       [    0.        ,     0.        ,     0.        ,     0.        ,\n",
       "            0.        ,     0.        , 27995.71799643,     0.        ,\n",
       "            0.        ,     0.        ,     0.        ,     0.        ,\n",
       "            0.        ,     0.        ,     0.        ,     0.        ],\n",
       "       [    0.        ,     0.        ,     0.        ,     0.        ,\n",
       "            0.        ,     0.        ,     0.        , 28000.        ,\n",
       "            0.        ,     0.        ,     0.        ,     0.        ,\n",
       "            0.        ,     0.        ,     0.        ,     0.        ],\n",
       "       [    0.        ,     0.        ,     0.        ,     0.        ,\n",
       "            0.        ,     0.        ,     0.        ,     0.        ,\n",
       "        28000.        ,     0.        ,     0.        ,     0.        ,\n",
       "            0.        ,     0.        ,     0.        ,     0.        ],\n",
       "       [    0.        ,     0.        ,     0.        ,     0.        ,\n",
       "            0.        ,     0.        ,     0.        ,     0.        ,\n",
       "            0.        , 28000.        ,     0.        ,     0.        ,\n",
       "            0.        ,     0.        ,     0.        ,     0.        ],\n",
       "       [    0.        ,     0.        ,     0.        ,     0.        ,\n",
       "            0.        ,     0.        ,     0.        ,     0.        ,\n",
       "            0.        ,     0.        , 28144.99144223,     0.        ,\n",
       "            0.        ,     0.        ,     0.        ,     0.        ],\n",
       "       [    0.        ,     0.        ,     0.        ,     0.        ,\n",
       "            0.        ,     0.        ,     0.        ,     0.        ,\n",
       "            0.        ,     0.        ,     0.        , 41923.        ,\n",
       "            0.        ,     0.        ,     0.        ,     0.        ],\n",
       "       [    0.        ,     0.        ,     0.        ,     0.        ,\n",
       "            0.        ,     0.        ,     0.        ,     0.        ,\n",
       "            0.        ,     0.        ,     0.        ,     0.        ,\n",
       "        41937.        ,     0.        ,     0.        ,     0.        ],\n",
       "       [    0.        ,     0.        ,     0.        ,     0.        ,\n",
       "            0.        ,     0.        ,     0.        ,     0.        ,\n",
       "            0.        ,     0.        ,     0.        ,     0.        ,\n",
       "            0.        , 42051.        ,     0.        ,     0.        ],\n",
       "       [    0.        ,     0.        ,     0.        ,     0.        ,\n",
       "            0.        ,     0.        ,     0.        ,     0.        ,\n",
       "            0.        ,     0.        ,     0.        ,     0.        ,\n",
       "            0.        ,     0.        , 42089.        ,     0.        ],\n",
       "       [    0.        ,     0.        ,     0.        ,     0.        ,\n",
       "            0.        ,     0.        ,     0.        ,     0.        ,\n",
       "            0.        ,     0.        ,     0.        ,     0.        ,\n",
       "            0.        ,     0.        ,     0.        , 56000.        ]])"
      ]
     },
     "execution_count": 120,
     "metadata": {},
     "output_type": "execute_result"
    }
   ],
   "source": [
    "eigv = np.zeros((16, 16))\n",
    "#we make matrix 16*16 to fill on diagonal eigenvalues(energies)\n",
    "for i in range(len(w)):\n",
    "    eigv[i, i] = Ham_Eigenvalues[i]\n",
    "    \n",
    "eigv"
   ]
  },
  {
   "cell_type": "code",
   "execution_count": 121,
   "id": "275d38cc",
   "metadata": {},
   "outputs": [
    {
     "name": "stderr",
     "output_type": "stream",
     "text": [
      "C:\\Users\\proto\\AppData\\Local\\Temp\\ipykernel_26724\\2036907439.py:15: ComplexWarning: Casting complex values to real discards the imaginary part\n",
      "  Z[i, j] = Z[i, j] + ((((D_M_H[0,s]*D_M_H[s, m]*D_M_H[m, n]*D_M_H[n,0])/\n"
     ]
    }
   ],
   "source": [
    "#we create two dimensional correlation stpectra of couplings between molecules\n",
    "x = np.linspace(27800,28300, num=500)\n",
    "y = np.linspace(13800,14300, num=500)\n",
    "X, Y = np.meshgrid(x,y)\n",
    "Z = np.zeros((500, 500))\n",
    "\n",
    "for i in range(len(Z[0:])):\n",
    "    for j in range(len(Z[0:])):\n",
    "        for n in np.arange(1,5):\n",
    "            for m in np.arange(5,12):\n",
    "                for s in np.arange(1,5):\n",
    "                    #H_1, H_2, H_3 energy differencies between ground state(0) and excitations\n",
    "                    H_1 = eigv[m, m] - eigv[0,0]\n",
    "                    H_2 = eigv[s, s] - eigv[0,0]\n",
    "                    H_3 = eigv[m, m] - eigv[s,s]\n",
    "                    #We calculate Feynman diagrams for two excitations\n",
    "                    Z[i, j] = Z[i, j] + ((((D_M_H[0,s]*D_M_H[s, m]*D_M_H[m, n]*D_M_H[n,0])/\n",
    "                                          (((1j*X[i,j] - 1j*H_1) - 20)*((1j*Y[i,j] - 1j*H_2)-20))) \n",
    "                                          -((D_M_H[0,s]*D_M_H[s,1]*D_M_H[m,n]*D_M_H[n,1])/\n",
    "                                           (((1j*X[i,j] - 1j*H_1) - 20)*((1j*Y[i,j] - 1j*H_3)-20)))))"
   ]
  },
  {
   "cell_type": "code",
   "execution_count": 142,
   "id": "ebd86d17",
   "metadata": {},
   "outputs": [],
   "source": [
    "import matplotlib.pyplot as plt\n",
    "plt.rcParams[\"figure.figsize\"] = (18,10)"
   ]
  },
  {
   "cell_type": "code",
   "execution_count": 148,
   "id": "86284ee6",
   "metadata": {},
   "outputs": [
    {
     "data": {
      "image/png": "[encoded data removed]",
      "text/plain": [
       "<Figure size 1296x720 with 2 Axes>"
      ]
     },
     "metadata": {
      "needs_background": "light"
     },
     "output_type": "display_data"
    }
   ],
   "source": [
    "\n",
    "maxG = np.max(np.max(np.abs(Z)))\n",
    "plt.contourf(X, Y, np.arcsinh(Z/maxG)*100)\n",
    "out = plt.contour(X, Y, Z)\n",
    "plt.clabel(out, inline=True,\n",
    "fontsize=10)\n",
    "plt.colorbar(out)\n",
    "plt.legend(['Intensity in relative units'])\n",
    "plt.title(\"Water-Soluble Chlorophyll Protein. Two excitations\")\n",
    "plt.xlabel(\"Energy cm^(-1)\")\n",
    "plt.ylabel(\"Energy cm^(-1)\")\n",
    "plt.show()"
   ]
  },
  {
   "cell_type": "code",
   "execution_count": null,
   "id": "6514157d",
   "metadata": {},
   "outputs": [],
   "source": []
  }
 ],
 "metadata": {
  "kernelspec": {
   "display_name": "Python 3 (ipykernel)",
   "language": "python",
   "name": "python3"
  },
  "language_info": {
   "codemirror_mode": {
    "name": "ipython",
    "version": 3
   },
   "file_extension": ".py",
   "mimetype": "text/x-python",
   "name": "python",
   "nbconvert_exporter": "python",
   "pygments_lexer": "ipython3",
   "version": "3.9.12"
  }
 },
 "nbformat": 4,
 "nbformat_minor": 5
}
